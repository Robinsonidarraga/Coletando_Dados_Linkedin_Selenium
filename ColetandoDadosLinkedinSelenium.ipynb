{
 "cells": [
  {
   "cell_type": "markdown",
   "id": "7d6a1399",
   "metadata": {},
   "source": [
    "# 1. Importar librarias "
   ]
  },
  {
   "cell_type": "code",
   "execution_count": null,
   "id": "dca55548",
   "metadata": {},
   "outputs": [],
   "source": [
    "import time\n",
    "from selenium import webdriver\n",
    "from selenium.webdriver.common.by import By\n",
    "import pandas as pd"
   ]
  },
  {
   "cell_type": "markdown",
   "id": "a3233de7",
   "metadata": {},
   "source": [
    "# 2. Implementação"
   ]
  },
  {
   "cell_type": "code",
   "execution_count": null,
   "id": "2783173b",
   "metadata": {
    "scrolled": true
   },
   "outputs": [],
   "source": [
    "driver = webdriver.Chrome(r'C:\\Users\\robin\\anaconda3\\chromedriver')  # Optional argument, if not specified will search path.# caminho do navegador\n",
    "driver.get('http://www.google.com/') # coloca o navegador no site da google\n",
    "#time.sleep(5) # Let the user actually see something!\n",
    "barra_p='/html/body/div[1]/div[3]/form/div[1]/div[1]/div[1]/div/div[2]/input' # elemento para procurar no google\n",
    "barra_ele_p=driver.find_element(\"xpath\", barra_p) # find_element(By.XPATH, \"xpath\") # acha o elemento\n",
    "barra_ele_p.send_keys('vagas de ciencia dos dados\\n') # procura por vagas no google\n",
    "ele_reserva='/html/body/div[7]/div/div[10]/div/div[2]/div[2]/div/div/div[2]/div/div[1]/div/a' # o elemento de linkedin \n",
    "#//*[@id=\"rso\"]/div[2]/div/div/div[1]/div/div/div[1]/div/a/h3\n",
    "driver.find_element(\"xpath\",ele_reserva).click() # acessa no linkedin\n"
   ]
  },
  {
   "cell_type": "markdown",
   "id": "1987ec24",
   "metadata": {},
   "source": [
    "# 3. Coletador os dados"
   ]
  },
  {
   "cell_type": "code",
   "execution_count": null,
   "id": "46f7423d",
   "metadata": {
    "scrolled": false
   },
   "outputs": [],
   "source": [
    "from selenium.common.exceptions import (NoSuchElementException,ElementClickInterceptedException,ElementNotInteractableException,WebDriverException)\n",
    "\n",
    "job_desc = []\n",
    "vagas = 50 # Pegar umas 50 vagas\n",
    "i=1\n",
    "while i < vagas:\n",
    "    \n",
    "    # click no job\n",
    "    vaga = f'/html/body/div[1]/div/main/section[2]/ul/li[{i}]'\n",
    "    #print(i)\n",
    "    driver.find_element(\"xpath\",vaga).click() \n",
    "    ## waiting load \n",
    "    #time.sleep(1)\n",
    "    #Click no botom exibir mais\n",
    "    exibirmais= '/html/body/main/section[1]/div/div[1]/section[1]/div/div/section/button[1]'\n",
    "    # Tratar a solicitacao das credenciais para o inicio de secao e algum erro de ver mais na descricao\n",
    "    try:\n",
    "        driver.find_element(\"xpath\",exibirmais).click()        \n",
    "    except (NoSuchElementException,ElementClickInterceptedException,WebDriverException):\n",
    "        driver.execute_script(\"window.history.go(-1)\")\n",
    "        time.sleep(5)\n",
    "        #print(i)\n",
    "        continue \n",
    "        \n",
    "    # Pega a descricao do job\n",
    "    desc = driver.find_element(By.CLASS_NAME,'description')\n",
    "    # Armazena em uma lista a descricao\n",
    "    job_desc.append(desc.text)\n",
    "    # Volta na pagina principal dos jobs\n",
    "    driver.execute_script(\"window.history.go(-1)\")\n",
    "    #if i in (20,29,48): # modificarlo dependendo do numero de iteracoes\n",
    "    driver.execute_script(f'window.scroll(0, {i*200})') # ir rolando a pagina\n",
    "    # Esperar\n",
    "    time.sleep(5)\n",
    "    i += 1"
   ]
  },
  {
   "cell_type": "markdown",
   "id": "94e3d602",
   "metadata": {},
   "source": [
    "# 6. export file"
   ]
  },
  {
   "cell_type": "code",
   "execution_count": null,
   "id": "9706e131",
   "metadata": {},
   "outputs": [],
   "source": [
    "df = pd.DataFrame(job_desc)"
   ]
  }
 ],
 "metadata": {
  "kernelspec": {
   "display_name": "Python 3 (ipykernel)",
   "language": "python",
   "name": "python3"
  },
  "language_info": {
   "codemirror_mode": {
    "name": "ipython",
    "version": 3
   },
   "file_extension": ".py",
   "mimetype": "text/x-python",
   "name": "python",
   "nbconvert_exporter": "python",
   "pygments_lexer": "ipython3",
   "version": "3.9.12"
  }
 },
 "nbformat": 4,
 "nbformat_minor": 5
}
